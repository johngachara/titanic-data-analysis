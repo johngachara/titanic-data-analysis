{
  "nbformat": 4,
  "nbformat_minor": 0,
  "metadata": {
    "colab": {
      "provenance": [],
      "authorship_tag": "ABX9TyMm4d0Vf0hqRfYUBaqqm5V9",
      "include_colab_link": true
    },
    "kernelspec": {
      "name": "python3",
      "display_name": "Python 3"
    },
    "language_info": {
      "name": "python"
    }
  },
  "cells": [
    {
      "cell_type": "markdown",
      "metadata": {
        "id": "view-in-github",
        "colab_type": "text"
      },
      "source": [
        "<a href=\"https://colab.research.google.com/github/johngachara/titanic-data-analysis/blob/main/DataPreprocessing.ipynb\" target=\"_parent\"><img src=\"https://colab.research.google.com/assets/colab-badge.svg\" alt=\"Open In Colab\"/></a>"
      ]
    },
    {
      "cell_type": "code",
      "execution_count": 1,
      "metadata": {
        "id": "eNS3UQEYyKmB"
      },
      "outputs": [],
      "source": [
        "import seaborn as sns\n",
        "import numpy as np\n",
        "from sklearn.preprocessing import MinMaxScaler\n",
        "import pandas as pd"
      ]
    },
    {
      "cell_type": "code",
      "source": [
        "titanic = sns.load_dataset('titanic')\n",
        "#check dataset structure\n",
        "print(titanic.info())"
      ],
      "metadata": {
        "colab": {
          "base_uri": "https://localhost:8080/"
        },
        "id": "kbzhfDHmyeBV",
        "outputId": "48fe5eb6-a0c7-4f8d-81e9-34f88390d7f8"
      },
      "execution_count": 19,
      "outputs": [
        {
          "output_type": "stream",
          "name": "stdout",
          "text": [
            "<class 'pandas.core.frame.DataFrame'>\n",
            "RangeIndex: 891 entries, 0 to 890\n",
            "Data columns (total 15 columns):\n",
            " #   Column       Non-Null Count  Dtype   \n",
            "---  ------       --------------  -----   \n",
            " 0   survived     891 non-null    int64   \n",
            " 1   pclass       891 non-null    int64   \n",
            " 2   sex          891 non-null    object  \n",
            " 3   age          714 non-null    float64 \n",
            " 4   sibsp        891 non-null    int64   \n",
            " 5   parch        891 non-null    int64   \n",
            " 6   fare         891 non-null    float64 \n",
            " 7   embarked     889 non-null    object  \n",
            " 8   class        891 non-null    category\n",
            " 9   who          891 non-null    object  \n",
            " 10  adult_male   891 non-null    bool    \n",
            " 11  deck         203 non-null    category\n",
            " 12  embark_town  889 non-null    object  \n",
            " 13  alive        891 non-null    object  \n",
            " 14  alone        891 non-null    bool    \n",
            "dtypes: bool(2), category(2), float64(2), int64(4), object(5)\n",
            "memory usage: 80.7+ KB\n",
            "None\n"
          ]
        }
      ]
    },
    {
      "cell_type": "code",
      "source": [
        "print(titanic.describe())"
      ],
      "metadata": {
        "colab": {
          "base_uri": "https://localhost:8080/"
        },
        "id": "4id662cBzUpa",
        "outputId": "27944c99-46a9-4eeb-d436-bf30681e725a"
      },
      "execution_count": 3,
      "outputs": [
        {
          "output_type": "stream",
          "name": "stdout",
          "text": [
            "         survived      pclass         age       sibsp       parch        fare\n",
            "count  891.000000  891.000000  714.000000  891.000000  891.000000  891.000000\n",
            "mean     0.383838    2.308642   29.699118    0.523008    0.381594   32.204208\n",
            "std      0.486592    0.836071   14.526497    1.102743    0.806057   49.693429\n",
            "min      0.000000    1.000000    0.420000    0.000000    0.000000    0.000000\n",
            "25%      0.000000    2.000000   20.125000    0.000000    0.000000    7.910400\n",
            "50%      0.000000    3.000000   28.000000    0.000000    0.000000   14.454200\n",
            "75%      1.000000    3.000000   38.000000    1.000000    0.000000   31.000000\n",
            "max      1.000000    3.000000   80.000000    8.000000    6.000000  512.329200\n"
          ]
        }
      ]
    },
    {
      "cell_type": "code",
      "source": [
        "missing = titanic.isnull().sum()\n",
        "print(missing)"
      ],
      "metadata": {
        "colab": {
          "base_uri": "https://localhost:8080/"
        },
        "id": "juEDpd5W0Vl4",
        "outputId": "665d2843-5503-41ad-af1c-e4bfdd97b3f1"
      },
      "execution_count": 20,
      "outputs": [
        {
          "output_type": "stream",
          "name": "stdout",
          "text": [
            "survived         0\n",
            "pclass           0\n",
            "sex              0\n",
            "age            177\n",
            "sibsp            0\n",
            "parch            0\n",
            "fare             0\n",
            "embarked         2\n",
            "class            0\n",
            "who              0\n",
            "adult_male       0\n",
            "deck           688\n",
            "embark_town      2\n",
            "alive            0\n",
            "alone            0\n",
            "dtype: int64\n"
          ]
        }
      ]
    },
    {
      "cell_type": "code",
      "source": [
        "titanic['age'].fillna(titanic['age'].median(),inplace=True)\n",
        "print(titanic.isnull().sum())"
      ],
      "metadata": {
        "colab": {
          "base_uri": "https://localhost:8080/"
        },
        "id": "97UluDYM0sn9",
        "outputId": "b6ba385c-c222-447d-824d-cc4bac0ad13f"
      },
      "execution_count": 21,
      "outputs": [
        {
          "output_type": "stream",
          "name": "stdout",
          "text": [
            "survived         0\n",
            "pclass           0\n",
            "sex              0\n",
            "age              0\n",
            "sibsp            0\n",
            "parch            0\n",
            "fare             0\n",
            "embarked         2\n",
            "class            0\n",
            "who              0\n",
            "adult_male       0\n",
            "deck           688\n",
            "embark_town      2\n",
            "alive            0\n",
            "alone            0\n",
            "dtype: int64\n"
          ]
        }
      ]
    },
    {
      "cell_type": "code",
      "source": [
        "titanic.drop(columns=['deck'],inplace=True)"
      ],
      "metadata": {
        "id": "-IUm1haq7wIt"
      },
      "execution_count": 22,
      "outputs": []
    },
    {
      "cell_type": "code",
      "source": [
        "\n",
        "titanic['embark_town'].fillna(titanic['embark_town'].mode()[0],inplace=True)\n",
        "titanic['embarked'].fillna(titanic['embarked'].mode()[0],inplace=True)\n",
        "print(titanic.isnull().sum())"
      ],
      "metadata": {
        "colab": {
          "base_uri": "https://localhost:8080/"
        },
        "id": "rxn2XdHG8PK8",
        "outputId": "9f6eafe1-489d-4908-eb12-4acf4e75eab7"
      },
      "execution_count": 23,
      "outputs": [
        {
          "output_type": "stream",
          "name": "stdout",
          "text": [
            "survived       0\n",
            "pclass         0\n",
            "sex            0\n",
            "age            0\n",
            "sibsp          0\n",
            "parch          0\n",
            "fare           0\n",
            "embarked       0\n",
            "class          0\n",
            "who            0\n",
            "adult_male     0\n",
            "embark_town    0\n",
            "alive          0\n",
            "alone          0\n",
            "dtype: int64\n"
          ]
        }
      ]
    },
    {
      "cell_type": "code",
      "source": [
        "#z Score outlier\n",
        "data = titanic['fare']\n",
        "mean = np.mean(data)\n",
        "std_dev = np.std(data) # calculates the standard deviation\n",
        "Z_scores = (data - mean) / std_dev # computes the Z-scores\n",
        "outliers = data[np.abs(Z_scores) > 3] # finds all the data points that are 3 standard deviations away from the mean\n",
        "data2 = titanic['age']\n",
        "mean2 = data2.mean()\n",
        "std2 = data2.std()\n",
        "z_score = (data2-mean2)/std2\n",
        "outliers2 = data2[np.abs(z_score)>3]\n",
        "print(outliers2)"
      ],
      "metadata": {
        "colab": {
          "base_uri": "https://localhost:8080/"
        },
        "id": "FuGFlJBj8wJV",
        "outputId": "7e139449-d92a-408d-9c32-2b3fc8270569"
      },
      "execution_count": 24,
      "outputs": [
        {
          "output_type": "stream",
          "name": "stdout",
          "text": [
            "96     71.0\n",
            "116    70.5\n",
            "493    71.0\n",
            "630    80.0\n",
            "672    70.0\n",
            "745    70.0\n",
            "851    74.0\n",
            "Name: age, dtype: float64\n"
          ]
        }
      ]
    },
    {
      "cell_type": "code",
      "source": [
        "Q1 = titanic_df['fare'].quantile(0.25) # calculates the first quartile\n",
        "Q3 = titanic_df['fare'].quantile(0.75) # calculates the third quartile\n",
        "IQR = Q3 - Q1 # computes the IQR\n",
        "\n",
        "# Below, we find all the data points that fall below the lower bound or above the upper bound\n",
        "outliers = titanic_df['fare'][\n",
        "    (titanic_df['fare'] < (Q1 - 1.5 * IQR)) |   #less than lower bound\n",
        "    (titanic_df['fare'] > (Q3 + 1.5 * IQR))     # greater than upper bound\n",
        "]"
      ],
      "metadata": {
        "id": "FglDXkNZAf98"
      },
      "execution_count": null,
      "outputs": []
    },
    {
      "cell_type": "code",
      "source": [
        "mean = np.mean(titanic_df['fare']) # calculates the mean\n",
        "standard_deviation = np.std(titanic_df['fare']) # calculates the standard deviation\n",
        "outliers = titanic_df['fare'][np.abs(titanic_df['fare'] - mean) > 3 * standard_deviation] # finds all the data points that are 3 standard deviations away from the mean"
      ],
      "metadata": {
        "id": "IekHeEUJAmTZ"
      },
      "execution_count": null,
      "outputs": []
    },
    {
      "cell_type": "code",
      "source": [
        "#cappping replacing outlier values with a certain maximum or minimum\n",
        "# Drop rows with missing 'age' values\n",
        "titanic_df = titanic.dropna(subset=['age'])\n",
        "\n",
        "# Calculate the upper bound for 'age'\n",
        "Q1 = titanic_df['age'].quantile(0.25)\n",
        "Q3 = titanic_df['age'].quantile(0.75)\n",
        "IQR = Q3 - Q1\n",
        "upper_bound = Q3 + 1.5 * IQR\n",
        "\n",
        "# Cap the outliers for 'age'\n",
        "titanic_df['age'] = np.where(titanic_df['age'] > upper_bound, upper_bound, titanic_df['age'])\n",
        "\n",
        "# Calculate the upper bound for 'fare'\n",
        "Q1 = titanic_df['fare'].quantile(0.25)\n",
        "Q3 = titanic_df['fare'].quantile(0.75)\n",
        "IQR = Q3 - Q1\n",
        "upper_bound = Q3 + 1.5 * IQR\n",
        "\n",
        "# Cap the outliers for 'fare'\n",
        "titanic_df['fare'] = np.where(titanic_df['fare'] > upper_bound, upper_bound, titanic_df['fare'])"
      ],
      "metadata": {
        "id": "ikSO3RUKAwNz"
      },
      "execution_count": 25,
      "outputs": []
    },
    {
      "cell_type": "code",
      "source": [
        "#normalization\n",
        "\n",
        "titanic_df[['age','fare']] = MinMaxScaler(feature_range=(0,10)).fit_transform(titanic_df[['age','fare']])\n",
        "print(titanic_df[['age','fare']].head())"
      ],
      "metadata": {
        "colab": {
          "base_uri": "https://localhost:8080/"
        },
        "id": "nxuoTdLh3cVj",
        "outputId": "c2d27537-0715-447a-8614-21f2ee7b633c"
      },
      "execution_count": 35,
      "outputs": [
        {
          "output_type": "stream",
          "name": "stdout",
          "text": [
            "        age       fare\n",
            "0  3.990385   1.104604\n",
            "1  6.948964  10.000000\n",
            "2  4.730030   1.207446\n",
            "3  6.394231   8.090270\n",
            "4  6.394231   1.226491\n"
          ]
        }
      ]
    },
    {
      "cell_type": "code",
      "source": [
        "#one hot encoding of categorical features\n",
        "titanic_df = pd.get_dummies(titanic_df,columns=['sex','embarked'],dtype=int)\n",
        "print(titanic_df.head())"
      ],
      "metadata": {
        "colab": {
          "base_uri": "https://localhost:8080/"
        },
        "id": "UaymZN0i4j4W",
        "outputId": "23d9a2eb-fbda-473a-eca1-9dc56a9db69b"
      },
      "execution_count": 27,
      "outputs": [
        {
          "output_type": "stream",
          "name": "stdout",
          "text": [
            "   survived  pclass       age  sibsp  parch       fare  class    who  \\\n",
            "0         0       3  3.990385      1      0   1.104604  Third    man   \n",
            "1         1       1  6.948964      1      0  10.000000  First  woman   \n",
            "2         1       3  4.730030      0      0   1.207446  Third  woman   \n",
            "3         1       1  6.394231      1      0   8.090270  First  woman   \n",
            "4         0       3  6.394231      0      0   1.226491  Third    man   \n",
            "\n",
            "   adult_male  embark_town alive  alone  sex_female  sex_male  embarked_C  \\\n",
            "0        True  Southampton    no  False           0         1           0   \n",
            "1       False    Cherbourg   yes  False           1         0           1   \n",
            "2       False  Southampton   yes   True           1         0           0   \n",
            "3       False  Southampton   yes  False           1         0           0   \n",
            "4        True  Southampton    no   True           0         1           0   \n",
            "\n",
            "   embarked_Q  embarked_S  \n",
            "0           0           1  \n",
            "1           0           0  \n",
            "2           0           1  \n",
            "3           0           1  \n",
            "4           0           1  \n"
          ]
        }
      ]
    },
    {
      "source": [
        "!git push -u origin main"
      ],
      "cell_type": "code",
      "metadata": {
        "colab": {
          "base_uri": "https://localhost:8080/"
        },
        "id": "paGEz8db5XUU",
        "outputId": "92b3dd3d-34ce-47df-d10e-a2d06d549af4"
      },
      "execution_count": 64,
      "outputs": [
        {
          "output_type": "stream",
          "name": "stdout",
          "text": [
            "fatal: could not read Username for 'https://github.com': No such device or address\n"
          ]
        }
      ]
    },
    {
      "source": [
        "!git config --global user.name"
      ],
      "cell_type": "code",
      "metadata": {
        "colab": {
          "base_uri": "https://localhost:8080/"
        },
        "id": "qlD0oGrPBvuj",
        "outputId": "260ee22d-9394-4d4e-ea5b-dc365c79e593"
      },
      "execution_count": 53,
      "outputs": [
        {
          "output_type": "stream",
          "name": "stdout",
          "text": [
            "johngachara\n"
          ]
        }
      ]
    }
  ]
}